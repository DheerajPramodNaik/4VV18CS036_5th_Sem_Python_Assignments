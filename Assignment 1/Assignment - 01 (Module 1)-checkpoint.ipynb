{
 "cells": [
  {
   "cell_type": "markdown",
   "metadata": {},
   "source": [
    "# Module - 01 Assignment (Application Development Using Python)"
   ]
  },
  {
   "cell_type": "markdown",
   "metadata": {},
   "source": [
    "## Programs :"
   ]
  },
  {
   "cell_type": "markdown",
   "metadata": {},
   "source": [
    "1. Write a short program that prints the numbers 1 to 10 using a for loop. Then write an equivalent program that prints the numbers 1 to 10 using a while loop"
   ]
  },
  {
   "cell_type": "code",
   "execution_count": 18,
   "metadata": {},
   "outputs": [
    {
     "name": "stdout",
     "output_type": "stream",
     "text": [
      "1\n",
      "2\n",
      "3\n",
      "4\n",
      "5\n",
      "6\n",
      "7\n",
      "8\n",
      "9\n",
      "10\n"
     ]
    }
   ],
   "source": [
    "# Printing numbers using For Loop\n",
    "for i in range(1, 11):\n",
    "    print(i)"
   ]
  },
  {
   "cell_type": "code",
   "execution_count": 19,
   "metadata": {},
   "outputs": [
    {
     "name": "stdout",
     "output_type": "stream",
     "text": [
      "1\n",
      "2\n",
      "3\n",
      "4\n",
      "5\n",
      "6\n",
      "7\n",
      "8\n",
      "9\n",
      "10\n"
     ]
    }
   ],
   "source": [
    "# Printing numbers using While loop\n",
    "i=1\n",
    "while(i != 11):\n",
    "    print(i)\n",
    "    i = i + 1"
   ]
  },
  {
   "cell_type": "markdown",
   "metadata": {},
   "source": [
    "##        "
   ]
  },
  {
   "cell_type": "markdown",
   "metadata": {},
   "source": [
    "2. Write a function to calculate your age (input : Date of birth)"
   ]
  },
  {
   "cell_type": "code",
   "execution_count": 17,
   "metadata": {},
   "outputs": [
    {
     "name": "stdout",
     "output_type": "stream",
     "text": [
      "Enter your Date Of Birth in DD/MM/YYYY format : 11/09/2000\n",
      "Enter Today's Date in DD/MM/YYYY format : 24/09/2020\n",
      "\n",
      "You are 20 years old.\n"
     ]
    }
   ],
   "source": [
    "# Function to calculate age\n",
    "def age(day, month, year):\n",
    "    today = input(\"Enter Today's Date in DD/MM/YYYY format : \").split(\"/\")\n",
    "    tday = int(today[0])\n",
    "    tmonth = int(today[1])\n",
    "    tyear = int(today[2])\n",
    "    \n",
    "    age = tyear - year -1\n",
    "    \n",
    "    if tmonth > month:\n",
    "        age += 1\n",
    "    if tmonth == month:\n",
    "        if tday > day:\n",
    "            age += 1\n",
    "            \n",
    "    print(\"\\nYou are \" + str(age) + \" years old.\")\n",
    "    \n",
    "\n",
    "n = input(\"Enter your Date Of Birth in DD/MM/YYYY format : \").split(\"/\")\n",
    "day = int(n[0])\n",
    "month = int(n[1])\n",
    "year = int(n[2])\n",
    "age(day, month, year)"
   ]
  },
  {
   "cell_type": "markdown",
   "metadata": {},
   "source": [
    "#    "
   ]
  },
  {
   "cell_type": "markdown",
   "metadata": {},
   "source": [
    "3. Write a program to check whether given string is palindrome or not (don't use built in function)"
   ]
  },
  {
   "cell_type": "code",
   "execution_count": 34,
   "metadata": {},
   "outputs": [
    {
     "name": "stdout",
     "output_type": "stream",
     "text": [
      "Enter The String : ababa\n",
      "Entered String is a Palindrome\n"
     ]
    }
   ],
   "source": [
    "# Function to find whether the entered string is Palindrome or not\n",
    "def palindrome(text):\n",
    "    n = len(text)\n",
    "    for i in range(n):\n",
    "        if text[i] != text[n - 1 - i]:\n",
    "            print(\"Entered String is not a Palindrome\")\n",
    "            return\n",
    "    print(\"Entered String is a Palindrome\")\n",
    "\n",
    "    \n",
    "text = input(\"Enter The String : \")\n",
    "palindrome(text)"
   ]
  },
  {
   "cell_type": "markdown",
   "metadata": {},
   "source": [
    "#   "
   ]
  },
  {
   "cell_type": "markdown",
   "metadata": {},
   "source": [
    "4. Write a function to calculate the discount amount on a sale\n",
    "\n",
    "   Example :\n",
    "           If purchase amount > 5000 discount percemtage is 40%\n",
    "           If purchase amount > 2000 discount percemtage is 20%\n",
    "           \n",
    "       Print the net bill amount after discount with proper messages"
   ]
  },
  {
   "cell_type": "code",
   "execution_count": 42,
   "metadata": {},
   "outputs": [
    {
     "name": "stdout",
     "output_type": "stream",
     "text": [
      "Enter the Purchase Amount : 5000\n",
      "\n",
      "Purchase Details\n",
      "--------------------------------------\n",
      "Purchase Amount : 5000\n",
      "Total Discount : 1000.00\n",
      "Final Price : 4000.00\n"
     ]
    }
   ],
   "source": [
    "# Function to calculate Discount\n",
    "def discount(price):\n",
    "    if price > 5000:\n",
    "        discount = 0.4\n",
    "    elif price > 2000:\n",
    "        discount = 0.2\n",
    "    else:\n",
    "        discount = 0\n",
    "    discount_amount = price * discount\n",
    "    total_bill = price - discount_amount\n",
    "    \n",
    "    print(\"\\nPurchase Details\")\n",
    "    print(\"--------------------------------------\")\n",
    "    print(\"Purchase Amount : \" + str(price))\n",
    "    print(\"Total Discount : {0:.2f}\".format(discount_amount))\n",
    "    print(\"Final Price : {0:.2f}\".format(total_bill))\n",
    "    \n",
    "    \n",
    "    \n",
    "price = int(input(\"Enter the Purchase Amount : \"))\n",
    "discount(price)"
   ]
  }
 ],
 "metadata": {
  "kernelspec": {
   "display_name": "Python 3",
   "language": "python",
   "name": "python3"
  },
  "language_info": {
   "codemirror_mode": {
    "name": "ipython",
    "version": 3
   },
   "file_extension": ".py",
   "mimetype": "text/x-python",
   "name": "python",
   "nbconvert_exporter": "python",
   "pygments_lexer": "ipython3",
   "version": "3.7.3"
  }
 },
 "nbformat": 4,
 "nbformat_minor": 2
}
